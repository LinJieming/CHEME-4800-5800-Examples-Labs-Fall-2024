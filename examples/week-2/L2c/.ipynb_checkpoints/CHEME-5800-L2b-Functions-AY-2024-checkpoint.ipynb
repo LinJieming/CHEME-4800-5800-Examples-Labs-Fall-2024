{
 "cells": [
  {
   "cell_type": "markdown",
   "id": "83cc0f74-cdf5-4c3a-a54e-de044d064a78",
   "metadata": {},
   "source": [
    "# Example: Let's Build a Student Record Application\n",
    "The objective of this example is to give you practice with [Structs](https://docs.julialang.org/en/v1/base/base/#struct), [functions](https://docs.julialang.org/en/v1/base/base/#function) and [conditional evaluation statements, e.g., if-else statements](https://docs.julialang.org/en/v1/manual/control-flow/#man-conditional-evaluation) in [Julia](https://docs.julialang.org/en/v1/) and [stack traces and error handling](https://docs.julialang.org/en/v1/manual/stacktraces/#Stack-Traces) patterns."
   ]
  },
  {
   "cell_type": "markdown",
   "id": "cb8b6fad-b5ab-4a06-872e-b5eb5f4c1cf2",
   "metadata": {},
   "source": [
    "## Setup\n",
    "In this example, let's load some packages, i.e., code that other people have made available to the world, using the [Julia package manager](https://docs.julialang.org/en/v1/stdlib/Pkg/) (which we'll explore in a few lectures from now). \n",
    "* We set up the computational environment by including the `Include.jl` file using [the `include(...)` method](https://docs.julialang.org/en/v1/base/base/#Base.include). The `Include.jl` file loads external packages, various functions we may need to use in an exercise, custom types to model the components of our example problem, etc."
   ]
  },
  {
   "cell_type": "code",
   "execution_count": 3,
   "id": "6e119ea5-054c-4153-acea-63cdb92d56d7",
   "metadata": {},
   "outputs": [],
   "source": [
    "include(\"Include.jl\");"
   ]
  },
  {
   "cell_type": "markdown",
   "id": "deec699f-a9d4-4b21-8d7b-c1120cc67584",
   "metadata": {},
   "source": [
    "## Task 1: Implement a factory method and test a student model instance\n",
    "In this task, you will implement the `build(...)` method for the `MyStudentModel` struct. The mutable `MyStudentModel` struct is a simple model of a student with two fields, a student id `sid::Int64` and a netid `netid::String` field. \n",
    "* a) Implement a `build(model::Type{MyStudentModel}; sid::Int64 = 0, netid::String=\"abc123\")::MyStudentModel` method in the `Factory.jl` file. This method should take a type, a sid, and a netid and produce a populated `MyStudentModel` instance.\n",
    "* b) Develop tests using [the @assert macro](https://docs.julialang.org/en/v1/base/base/#Base.@assert) to test your factory method implementation by testing the facets of the model that it produces."
   ]
  },
  {
   "cell_type": "markdown",
   "id": "a5e3c355-d61b-4204-a22c-4f8bc72548b0",
   "metadata": {},
   "source": [
    "### Build a test student model\n",
    "Once you have implemented your `build(...)` method, construct a `MyStudentModel` instance with specified values for the `sid::Int64` and `netid::String` fields. Specify some test values below:"
   ]
  },
  {
   "cell_type": "code",
   "execution_count": 6,
   "id": "e9e6ed80-c662-4be4-b8ef-80b41abd7be9",
   "metadata": {},
   "outputs": [],
   "source": [
    "test_sid = 1; # chose a test value\n",
    "test_netid = \"jdv27\"; # chose a test value"
   ]
  },
  {
   "cell_type": "markdown",
   "id": "36a7ab50-df2d-49bf-95fe-fca23e9e3c36",
   "metadata": {},
   "source": [
    "Call your `build(...)` method. This method call should return a populated `MyStudentModel` instance. Pass the `test_sid` and `test_netid` values into your `build(...)` function, and save the result in the `test_student_model::MyStudentModel` variable:"
   ]
  },
  {
   "cell_type": "code",
   "execution_count": 8,
   "id": "7f011347-137f-4564-8916-1b326af7cf49",
   "metadata": {},
   "outputs": [],
   "source": [
    "test_student_model = build(MyStudentModel, sid = test_sid, netid = test_netid); # change this, add a call to your build method"
   ]
  },
  {
   "cell_type": "markdown",
   "id": "7a3698e9-721b-4350-ab39-656f6b033a7c",
   "metadata": {},
   "source": [
    "### Test your student model instance\n",
    "Now that you have constructed your `test_student_model` instance let's develop [some unit tests](https://en.wikipedia.org/wiki/Unit_testing) to ensure the model's type and data are correct.\n",
    "* __What are [unit tests](https://en.wikipedia.org/wiki/Unit_testing)__? Unit testing is a form of software testing by which isolated source code components, a.k.a units, are tested to validate expected behavior. This form of testing is a ground-up perspective in which we validate each system unit."
   ]
  },
  {
   "cell_type": "markdown",
   "id": "04aa5812-0986-4e74-9d06-400c11d5deeb",
   "metadata": {},
   "source": [
    "#### Test 1: Test the type of student model instance\n",
    "The first test we do is to determine whether the correct build method is being called by validating the type of model object being returned using [the `isa(...)` method](https://docs.julialang.org/en/v1/base/base/#Core.isa). "
   ]
  },
  {
   "cell_type": "code",
   "execution_count": 11,
   "id": "8be081bb-df30-424e-9826-ce9c1810b92a",
   "metadata": {},
   "outputs": [],
   "source": [
    "@assert isa(test_student_model, MyStudentModel)"
   ]
  },
  {
   "cell_type": "markdown",
   "id": "01a7051c-188c-4c1d-9b48-e393453705e1",
   "metadata": {},
   "source": [
    "#### Test 2: Validate the data types and data stored in the student model\n",
    "Next, test whether the values in the `sid` and `netid` fields are the correct types and have the correct values. These tests use the short-circuit `&&` operator to verify the value of each field. For more information on `&&` check-out the [Julia Short-Circuit conditional statement documentation](https://docs.julialang.org/en/v1/manual/control-flow/#Short-Circuit-Evaluation)\n",
    "\n",
    "First, test the types of the data fields using [the `isa(...)` method](https://docs.julialang.org/en/v1/base/base/#Core.isa) in combination with [the logical and operator `&&`](https://docs.julialang.org/en/v1/manual/control-flow/#Short-Circuit-Evaluation):"
   ]
  },
  {
   "cell_type": "code",
   "execution_count": 13,
   "id": "8cb3ba31-2ba5-4357-848b-df1c53030feb",
   "metadata": {},
   "outputs": [],
   "source": [
    "@assert (isa(test_student_model.sid, Int) && isa(test_student_model.netid, String))"
   ]
  },
  {
   "cell_type": "markdown",
   "id": "c52aff9a-7638-407b-8231-83639b3fa540",
   "metadata": {},
   "source": [
    "Then test the values held in the data fields using the equality `==` operator in combination with [the logical and operator `&&`](https://docs.julialang.org/en/v1/manual/control-flow/#Short-Circuit-Evaluation). What should these values be?"
   ]
  },
  {
   "cell_type": "code",
   "execution_count": 15,
   "id": "b33d73cb-ec75-4399-896a-1dda7dd4019b",
   "metadata": {},
   "outputs": [],
   "source": [
    "@assert (test_student_model.sid == test_sid && test_student_model.netid == test_netid)"
   ]
  },
  {
   "cell_type": "markdown",
   "id": "f26f23e8-f1a9-40b4-b22e-b04432978260",
   "metadata": {},
   "source": [
    "## Task 2: Debug a student record search function\n",
    "In this task, we will debug an existing implementation of the `find(...)` method in the `Compute.jl` file. The `find(...)` function returns the index of a student object by matching the `sid::Int64` and `netid::String` fields with a test student object."
   ]
  },
  {
   "cell_type": "markdown",
   "id": "72ef444b-673b-4de2-b0b0-c41ebf778257",
   "metadata": {},
   "source": [
    "### Build some test data\n",
    "Fill me in"
   ]
  },
  {
   "cell_type": "code",
   "execution_count": 29,
   "id": "7fb8dd83-dc14-4d0d-8053-913f6669ccf3",
   "metadata": {},
   "outputs": [],
   "source": [
    "number_of_students = 1000;"
   ]
  },
  {
   "cell_type": "markdown",
   "id": "283fe3de-84ef-43e4-b4a4-b8e8bba885c3",
   "metadata": {},
   "source": [
    "Fill me in"
   ]
  },
  {
   "cell_type": "code",
   "execution_count": 33,
   "id": "9c27436b-da65-4528-aa36-b7fd1701878b",
   "metadata": {},
   "outputs": [],
   "source": [
    "list_of_test_students = build(MyStudentModel, number_of_students);"
   ]
  },
  {
   "cell_type": "code",
   "execution_count": null,
   "id": "f61bb7fc-e896-4fc9-89a7-06db3279bd4a",
   "metadata": {},
   "outputs": [],
   "source": []
  }
 ],
 "metadata": {
  "kernelspec": {
   "display_name": "Julia 1.10.4",
   "language": "julia",
   "name": "julia-1.10"
  },
  "language_info": {
   "file_extension": ".jl",
   "mimetype": "application/julia",
   "name": "julia",
   "version": "1.10.4"
  }
 },
 "nbformat": 4,
 "nbformat_minor": 5
}

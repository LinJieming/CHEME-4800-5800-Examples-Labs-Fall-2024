{
 "cells": [
  {
   "cell_type": "markdown",
   "id": "ec311a4c-a1b2-4261-8f07-2d43cf0571bc",
   "metadata": {},
   "source": [
    "# Example: Fun With Queues, Stacks and Linked Lists\n",
    "Fill me in"
   ]
  },
  {
   "cell_type": "markdown",
   "id": "d7830622-e8cf-49a8-a983-81db11681379",
   "metadata": {},
   "source": [
    "## Setup\n",
    "We set up the computational environment by including the `Include. jl` file using [the `include(...)` method](https://docs.julialang.org/en/v1/base/base/#Base.include). The `Include.jl` file loads external packages and functions we will use in these examples. \n",
    "* For additional information on functions and types used in this example, see the [Julia programming language documentation](https://docs.julialang.org/en/v1/). "
   ]
  },
  {
   "cell_type": "code",
   "execution_count": 7,
   "id": "da04a530-ac93-4b4e-af06-6c117a742040",
   "metadata": {},
   "outputs": [],
   "source": [
    "include(\"Include.jl\");"
   ]
  },
  {
   "cell_type": "code",
   "execution_count": null,
   "id": "c30dc567-38f8-4a01-bbff-fff1c385682e",
   "metadata": {},
   "outputs": [],
   "source": []
  }
 ],
 "metadata": {
  "kernelspec": {
   "display_name": "Julia 1.10.5",
   "language": "julia",
   "name": "julia-1.10"
  },
  "language_info": {
   "file_extension": ".jl",
   "mimetype": "application/julia",
   "name": "julia",
   "version": "1.10.5"
  }
 },
 "nbformat": 4,
 "nbformat_minor": 5
}

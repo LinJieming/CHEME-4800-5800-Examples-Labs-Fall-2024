{
 "cells": [
  {
   "cell_type": "markdown",
   "id": "ad7659ba-0b99-494e-8f38-4a6fb55efb58",
   "metadata": {},
   "source": [
    "# Lab 4d: Let's start working on our Bag of Words (BoW) implementation\n",
    "Ultimately, we will build a system that can classify text as positive or negative in tone, called [sentiment analysis](https://en.wikipedia.org/wiki/Sentiment_analysis). The objective of `lab-4d` is to familiarize students with working with text documents and a simple [natural language processing (NLP)](https://en.wikipedia.org/wiki/Natural_language_processing) model such as the [bag of words model](https://en.wikipedia.org/wiki/Bag-of-words_model).\n",
    "\n",
    "* We'll use the [Cornell movie review v2.0 data set](http://www.cs.cornell.edu/people/pabo/movie-review-data) as our corpus. This data set was introduced and analyzed in [Pang/Lee ACL 2004](https://aclanthology.org/P04-1035/). It contains 1000 positive and 1000 negative movie reviews in free(ish) text."
   ]
  },
  {
   "cell_type": "markdown",
   "id": "b0b7e2a4-ab90-4a70-ace1-f80993588cc7",
   "metadata": {},
   "source": [
    "## Setup\n",
    "We set up the computational environment by including [the `Include. jl` file](Include.jl) using [the `include(...)` method](https://docs.julialang.org/en/v1/base/base/#Base.include). The [`Include.jl` file](Include.jl) loads external packages and functions we will use in these examples. \n",
    "* For additional information on functions and types used in this example, see the [Julia programming language documentation](https://docs.julialang.org/en/v1/). "
   ]
  },
  {
   "cell_type": "code",
   "execution_count": 3,
   "id": "ba8b1e06-749a-437e-a1bf-0390f66c0f0f",
   "metadata": {},
   "outputs": [],
   "source": [
    "include(\"Include.jl\");"
   ]
  },
  {
   "cell_type": "markdown",
   "id": "5dea9a43-f542-48d1-921b-3f47590b9b3a",
   "metadata": {},
   "source": [
    "## Prerequisite \n",
    "Break up into teams of 2-3 people and take `5 min` to walk through all the files (starting with [`Include.jl` in the `root` directory](Include.jl) in `Lab-4d`. At the end of `5 min`, we'll do a class Q&A to ensure everyone understands the purpose of each file."
   ]
  },
  {
   "cell_type": "markdown",
   "id": "e17fe5c5-f7b2-4717-a69e-c9416b2a9395",
   "metadata": {},
   "source": [
    "## Task 1: Load the positive and negative movie review datasets\n",
    "In this task, we will load the positive and negative movie datasets from the review text files by parsing each movie file."
   ]
  },
  {
   "cell_type": "code",
   "execution_count": 6,
   "id": "c88f18dc-8b47-403a-8d5b-e7c4bd2b244e",
   "metadata": {},
   "outputs": [],
   "source": [
    "list_of_positive_review_files = readdir(_PATH_TO_POSITIVE_REVIEWS); # what is happening here?\n",
    "postive_review_documents = readfiles(list_of_positive_review_files, \n",
    "    base = _PATH_TO_POSITIVE_REVIEWS, delim = \" \");"
   ]
  },
  {
   "cell_type": "markdown",
   "id": "49e29929-c6b1-4d4a-b49c-0cb052435237",
   "metadata": {},
   "source": [
    "Next, do the same thing for the negative reviews."
   ]
  },
  {
   "cell_type": "code",
   "execution_count": 8,
   "id": "77617683-6017-43bd-92dc-4c1f581bf87c",
   "metadata": {},
   "outputs": [],
   "source": [
    "list_of_negative_review_files = readdir(_PATH_TO_NEGATIVE_REVIEWS);\n",
    "negative_review_documents = readfiles(list_of_negative_review_files, \n",
    "    base = _PATH_TO_NEGATIVE_REVIEWS, delim = \" \");"
   ]
  },
  {
   "cell_type": "markdown",
   "id": "1ce506b5-1493-422d-964d-09662fef1583",
   "metadata": {},
   "source": [
    "## Task 2: Let's build a movie review corpus model\n",
    "Fill me in"
   ]
  },
  {
   "cell_type": "code",
   "execution_count": 10,
   "id": "da19b7d5-6b92-4991-bfae-01484d9f7a38",
   "metadata": {},
   "outputs": [],
   "source": [
    "corpus = let\n",
    "    allmoviewreviews = Dict{Int64, MyMoviewReviewRecordModel}();\n",
    "    counter = 1;\n",
    "    \n",
    "    for (k,v) ∈ postive_review_documents\n",
    "        allmoviewreviews[counter] = v;\n",
    "        counter += 1\n",
    "    end\n",
    "\n",
    "    for (k,v) ∈ negative_review_documents\n",
    "        allmoviewreviews[counter] = v;\n",
    "        counter += 1\n",
    "    end\n",
    "\n",
    "    build(MyMoviewReviewDocumentCorpusModel, allmoviewreviews)\n",
    "end;"
   ]
  },
  {
   "cell_type": "markdown",
   "id": "50662814-52c6-4a07-8670-b506b679acc7",
   "metadata": {},
   "source": [
    "Let's check out what's in the corpus model."
   ]
  },
  {
   "cell_type": "code",
   "execution_count": 12,
   "id": "fdc820bf-a9d8-453e-8e69-c3c1e8b0b826",
   "metadata": {},
   "outputs": [
    {
     "data": {
      "text/plain": [
       "Dict{Int64, MyMoviewReviewRecordModel} with 2002 entries:\n",
       "  1144 => MyMoviewReviewRecordModel([\"the\", \"first\", \"species\", \"was\", \"a\", \"mo…\n",
       "  1175 => MyMoviewReviewRecordModel([\"five\", \"years\", \"after\", \"his\", \"director…\n",
       "  1953 => MyMoviewReviewRecordModel([\"the\", \"44\", \"caliber\", \"killer\", \"has\", \"…\n",
       "  719  => MyMoviewReviewRecordModel([\"good\", \"films\", \"are\", \"hard\", \"to\", \"fin…\n",
       "  1546 => MyMoviewReviewRecordModel([\"ill\", \"bet\", \"right\", \"now\", \"youre\", \"ju…\n",
       "  1703 => MyMoviewReviewRecordModel([\"the\", \"swooping\", \"shots\", \"across\", \"dar…\n",
       "  1956 => MyMoviewReviewRecordModel([\"i\", \"think\", \"maybe\", \"its\", \"time\", \"for…\n",
       "  1028 => MyMoviewReviewRecordModel([\"mulholland\", \"drive\", \"did\", \"very\", \"wel…\n",
       "  699  => MyMoviewReviewRecordModel([\"through\", \"a\", \"spyglass\", \"i\", \"could\", …\n",
       "  831  => MyMoviewReviewRecordModel([\"i\", \"know\", \"that\", \"funnest\", \"isnt\", \"a…\n",
       "  1299 => MyMoviewReviewRecordModel([\"it\", \"would\", \"be\", \"hard\", \"to\", \"choose…\n",
       "  1438 => MyMoviewReviewRecordModel([\"woof\", \"too\", \"bad\", \"that\", \"leap\", \"of\"…\n",
       "  1074 => MyMoviewReviewRecordModel([\"this\", \"is\", \"your\", \"definitive\", \"holly…\n",
       "  319  => MyMoviewReviewRecordModel([\"the\", \"happy\", \"bastards\", \"30second\", \"r…\n",
       "  687  => MyMoviewReviewRecordModel([\"what\", \"do\", \"you\", \"get\", \"when\", \"you\",…\n",
       "  1812 => MyMoviewReviewRecordModel([\"it\", \"rocksactually\", \"lots\", \"of\", \"rock…\n",
       "  1199 => MyMoviewReviewRecordModel([\"one\", \"of\", \"the\", \"first\", \"films\", \"of\"…\n",
       "  185  => MyMoviewReviewRecordModel([\"to\", \"paraphrase\", \"a\", \"song\", \"title\", …\n",
       "  823  => MyMoviewReviewRecordModel([\"hedwig\", \"and\", \"the\", \"angry\", \"inch\", \"…\n",
       "  1090 => MyMoviewReviewRecordModel([\"exuniversal\", \"soldier\", \"luc\", \"has\", \"t…\n",
       "  420  => MyMoviewReviewRecordModel([\"kirk\", \"douglas\", \"is\", \"one\", \"of\", \"tho…\n",
       "  1370 => MyMoviewReviewRecordModel([\"ugh\", \"that\", \"about\", \"sums\", \"this\", \"m…\n",
       "  1437 => MyMoviewReviewRecordModel([\"upon\", \"first\", \"viewing\", \"of\", \"this\", …\n",
       "  1662 => MyMoviewReviewRecordModel([\"what\", \"do\", \"you\", \"get\", \"when\", \"you\",…\n",
       "  1991 => MyMoviewReviewRecordModel([\"one\", \"of\", \"my\", \"favorite\", \"songs\", \"b…\n",
       "  ⋮    => ⋮"
      ]
     },
     "execution_count": 12,
     "metadata": {},
     "output_type": "execute_result"
    }
   ],
   "source": [
    "corpus.records"
   ]
  },
  {
   "cell_type": "code",
   "execution_count": 13,
   "id": "6eb79a66-0b8c-448d-9f5a-7f3f82136691",
   "metadata": {},
   "outputs": [
    {
     "data": {
      "text/plain": [
       "Dict{Int64, String} with 47582 entries:\n",
       "  45120 => \"vapor\"\n",
       "  1703  => \"alliance\"\n",
       "  37100 => \"seductive\"\n",
       "  3406  => \"backer\"\n",
       "  28804 => \"noseworthy\"\n",
       "  40691 => \"stuckup\"\n",
       "  11251 => \"devine\"\n",
       "  3220  => \"automatically\"\n",
       "  422   => \"25\"\n",
       "  46806 => \"witness\"\n",
       "  15370 => \"fiances\"\n",
       "  4030  => \"bedrock\"\n",
       "  8060  => \"code\"\n",
       "  3163  => \"aurelius\"\n",
       "  22241 => \"javier\"\n",
       "  23265 => \"knockin\"\n",
       "  35395 => \"ridley\"\n",
       "  27851 => \"myrlie\"\n",
       "  23690 => \"larters\"\n",
       "  44399 => \"unexpectedly\"\n",
       "  844   => \"abstraction\"\n",
       "  24859 => \"lovemaker\"\n",
       "  20571 => \"idioplot\"\n",
       "  2920  => \"assist\"\n",
       "  2783  => \"artistaction\"\n",
       "  ⋮     => ⋮"
      ]
     },
     "execution_count": 13,
     "metadata": {},
     "output_type": "execute_result"
    }
   ],
   "source": [
    "corpus.inverse"
   ]
  },
  {
   "cell_type": "code",
   "execution_count": null,
   "id": "11b4afa4-8bf3-40ca-8042-b528a51032db",
   "metadata": {},
   "outputs": [],
   "source": []
  }
 ],
 "metadata": {
  "kernelspec": {
   "display_name": "Julia 1.10.5",
   "language": "julia",
   "name": "julia-1.10"
  },
  "language_info": {
   "file_extension": ".jl",
   "mimetype": "application/julia",
   "name": "julia",
   "version": "1.10.5"
  }
 },
 "nbformat": 4,
 "nbformat_minor": 5
}

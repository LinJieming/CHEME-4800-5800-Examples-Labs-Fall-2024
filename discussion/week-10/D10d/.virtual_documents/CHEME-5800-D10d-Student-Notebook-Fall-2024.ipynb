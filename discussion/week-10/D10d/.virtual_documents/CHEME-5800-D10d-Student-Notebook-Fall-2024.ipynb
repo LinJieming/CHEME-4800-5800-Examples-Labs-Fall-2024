





include("Include.jl");





number_of_choices = 14;
bounds_array = Array{Float64,2}(undef, number_of_choices,2)
for i ∈ 1:number_of_choices
    bounds_array[i,1] = 0.0
    bounds_array[i,2] = 1.0;
end





configuration_array = [

    # CPU options
    0.5 2640.0    ; # 1 CPU 1
    0.5 3649.0    ; # 2 CPU 2

    # Memory options
    0.333 3840.0  ; # 3 Memory 1
    0.333 4640.0  ; # 4 Memory 2
    0.333 3600.0  ; # 5 Memory 3

    # Storage options -
    0.25 1440.0   ; # 6 Storage 1
    0.25 1840.0   ; # 7 Storage 2
    0.25 2440.0   ; # 8 Storage 3
    0.25 3640.0   ; # 9 Storage 4

    # Accessory options
    0.333 79.0    ; # 10 Accessory 1
    0.333 129.0   ; # 11 Accessory 2
    0.333 149.0   ; # 12 Accessory 3
    
    # Software options
    0.5 299.0     ; # 13 Software 1
    0.5 149.0     ; # 14 Software 2
];





C = zeros(4,14); # understanding qestion: why is this a 4 x 14 array?








α = configuration_array[:,1];
c = configuration_array[:,2];
I = 10000; # default budget is 10K USD

# Fill me in





# fill me in





# Fill me in - this is an open ended question, so mess around with the alpha - values and I and jot down some observations. 

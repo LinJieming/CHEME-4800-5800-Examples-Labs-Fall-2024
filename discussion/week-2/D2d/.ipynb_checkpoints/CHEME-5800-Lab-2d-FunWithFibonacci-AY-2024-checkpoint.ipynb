{
 "cells": [
  {
   "cell_type": "markdown",
   "id": "c738208f-fb0f-4c68-815f-d2e9e65670ba",
   "metadata": {},
   "source": [
    "# Lab-2d: Compute the Fibonacci sequence using `for` and `while` loops\n",
    "This lab will familiarize students with working with [Julia methods](https://docs.julialang.org/en/v1/manual/methods/), using [iteration patterns such as  `for-loops` and `while-loops`](https://docs.julialang.org/en/v1/manual/control-flow/#man-loops) to compute [Fibonacci sequences](https://en.wikipedia.org/wiki/Fibonacci_sequence). A [Fibonacci sequence](https://en.wikipedia.org/wiki/Fibonacci_sequence) is a sequence composed of the `Fibonacci` numbers $F_{n}$ where $F_{n}$ is governed by the recurrence relation:\n",
    "$$\n",
    "F_{n} = F_{n-2} + F_{n-1}\\quad{n\\geq{1}}\n",
    "$$\n",
    "where $F_{0}=0$ and $F_{1} = 1$.\n",
    "\n",
    "### Learning objectives\n",
    "Let's write two _private methds_ to compute [Fibonacci sequences](https://en.wikipedia.org/wiki/Fibonacci_sequence), one with a `for` loop and the second with a `while` loop in the `Compute.jl` file. Then, we'll write a _public function_ that users will call that automatically calls the correct private implementation based on arguments. "
   ]
  },
  {
   "cell_type": "markdown",
   "id": "dcd8577d-3922-4339-8a1b-8c26ff15883c",
   "metadata": {},
   "source": [
    "## Setup\n",
    "We set up the computational environment by including the `Include.jl` file using [the `include(...)` method](https://docs.julialang.org/en/v1/base/base/#Base.include). The `Include.jl` file loads external packages, various functions we may need to use in an exercise, custom types to model the components of our example problem, etc."
   ]
  },
  {
   "cell_type": "code",
   "execution_count": 3,
   "id": "4db11244-8015-421c-ab5a-8a125946c60f",
   "metadata": {},
   "outputs": [],
   "source": [
    "include(\"Include.jl\");"
   ]
  },
  {
   "cell_type": "markdown",
   "id": "74694bee-9d03-4449-8fa4-5af1e1c909d9",
   "metadata": {},
   "source": [
    "## Task 1: Build a Fibonacci sequence model\n",
    "Fill me in"
   ]
  },
  {
   "cell_type": "code",
   "execution_count": 5,
   "id": "26dbf24d-d37a-423e-9e6a-5b25bdfea8f0",
   "metadata": {},
   "outputs": [],
   "source": [
    "model = build(MyFibonacciSequenceModel,(\n",
    "        n = 10,\n",
    "));"
   ]
  },
  {
   "cell_type": "markdown",
   "id": "bb44589e-557b-4987-a00d-ac88cf82f556",
   "metadata": {},
   "source": [
    "## Task 2: Call the Fibonacci `for` loop implementation\n",
    "Let's implement the `fibonacci` function, which takes the argument `n::Int64` and returns a [Dictionary](https://docs.julialang.org/en/v1/base/collections/#Dictionaries) with entries $n\\Rightarrow{F_{n}}$, i.e., the `key` will be the $n$ value and the `value` will be $F_{n}$.\n",
    "* Let's use the `early return pattern` to check if the argument $n$ is non-negative. If $n<0$, then the `fibonacci_for_loop` function will return a value of `nothing` and never do any computation (is this a good idea?)\n",
    "* Otherwise, the sequence $F_{0},F_{1},\\dots,F_{n}$ is returned to the caller as a `Dict{Int64, Int64}`."
   ]
  },
  {
   "cell_type": "code",
   "execution_count": 7,
   "id": "e3d1cc29-7cc2-4d4e-87ee-048da87f101c",
   "metadata": {},
   "outputs": [
    {
     "data": {
      "text/plain": [
       "MyFibonacciSequenceModel(10, Dict(5 => 5, 8 => 21, 1 => 1, 0 => 0, 6 => 8, 9 => 34, 3 => 2, 7 => 13, 4 => 3, 2 => 1…))"
      ]
     },
     "execution_count": 7,
     "metadata": {},
     "output_type": "execute_result"
    }
   ],
   "source": [
    "model |> model -> fibonacci(model, MyForLoopIterationModel())"
   ]
  },
  {
   "cell_type": "markdown",
   "id": "4e9e636f-c1ed-4fb1-b5a5-cc48604f10df",
   "metadata": {},
   "source": [
    "## Task 3: Call the Fibonacci `while` loop implementation\n",
    "Let's implement the `fibonacci_while_loop` function, which takes the argument `n::Int64` and returns a [Dictionary](https://docs.julialang.org/en/v1/base/collections/#Dictionaries) with entries $n\\Rightarrow{F_{n}}$, i.e., the `key` will be the $n$ value and the `value` will be $F_{n}$. \n",
    "* Like a `for` loop, a [while loop](https://docs.julialang.org/en/v1/base/base/#while) has a header line which controls iteration and a body. The same scope rules apply. However, unlike a `for` loop, a [while loop](https://docs.julialang.org/en/v1/base/base/#while) executes until some condition evaluates to false in the header.\n",
    "* Let's use the `early return pattern` to check if the argument $n$ is non-negative. If $n<0$, then the `fibonacci_while_loop` function `throws` a `DomainError` and never does any computation (is this a good idea?). The [throws function](https://docs.julialang.org/en/v1/base/base/#Core.throw) `throws` an object as an exception, in this case, an instance of [DomainError](https://docs.julialang.org/en/v1/base/base/#Core.DomainError) which is a [Julia built-in error type](https://docs.julialang.org/en/v1/base/base/#Errors). \n",
    "* Otherwise, the sequence $F_{0},F_{1},\\dots,F_{n}$ is returned to the caller as a `Dict{Int64, Int64}`."
   ]
  },
  {
   "cell_type": "code",
   "execution_count": 9,
   "id": "006f36fc-2346-47f6-9779-ae46ade32a6e",
   "metadata": {},
   "outputs": [
    {
     "data": {
      "text/plain": [
       "MyFibonacciSequenceModel(10, Dict(5 => 5, 8 => 21, 1 => 1, 0 => 0, 6 => 8, 9 => 34, 3 => 2, 7 => 13, 4 => 3, 2 => 1…))"
      ]
     },
     "execution_count": 9,
     "metadata": {},
     "output_type": "execute_result"
    }
   ],
   "source": [
    "model |> model -> fibonacci(model, MyWhileLoopIterationModel())"
   ]
  },
  {
   "cell_type": "code",
   "execution_count": null,
   "id": "b13d5723-ec05-4845-8017-b1f4dd762399",
   "metadata": {},
   "outputs": [],
   "source": []
  },
  {
   "cell_type": "code",
   "execution_count": null,
   "id": "52b1050b-f0af-4a97-8e8b-573f5fa653be",
   "metadata": {},
   "outputs": [],
   "source": []
  }
 ],
 "metadata": {
  "kernelspec": {
   "display_name": "Julia 1.10.4",
   "language": "julia",
   "name": "julia-1.10"
  },
  "language_info": {
   "file_extension": ".jl",
   "mimetype": "application/julia",
   "name": "julia",
   "version": "1.10.4"
  }
 },
 "nbformat": 4,
 "nbformat_minor": 5
}

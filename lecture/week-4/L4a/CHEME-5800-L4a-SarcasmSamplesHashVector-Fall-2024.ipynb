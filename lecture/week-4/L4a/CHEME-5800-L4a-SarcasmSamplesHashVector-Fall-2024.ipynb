{
 "cells": [
  {
   "cell_type": "markdown",
   "id": "7f298a06-6f24-4090-8778-0eadd4729806",
   "metadata": {},
   "source": [
    "# Example: Vector Hashing of Sarcasm Samples\n",
    "Fill me in"
   ]
  },
  {
   "cell_type": "markdown",
   "id": "9500dca4-1aa5-4b35-ad3f-942212a96a32",
   "metadata": {},
   "source": [
    "## Setup\n",
    "We set up the computational environment by including [the `Include. jl` file](Include.jl) using [the `include(...)` method](https://docs.julialang.org/en/v1/base/base/#Base.include). The [`Include.jl` file](Include.jl) loads external packages and functions we will use in these examples. \n",
    "* For additional information on functions and types used in this example, see the [Julia programming language documentation](https://docs.julialang.org/en/v1/). "
   ]
  },
  {
   "cell_type": "code",
   "execution_count": 3,
   "id": "7ab154de-1a83-4a53-a419-7a9adfe8c10b",
   "metadata": {},
   "outputs": [],
   "source": [
    "include(\"Include.jl\");"
   ]
  },
  {
   "cell_type": "markdown",
   "id": "43c1986b-3c5c-4780-a167-9ac1608f9a63",
   "metadata": {},
   "source": [
    "## Prerequisites\n",
    "Fill me in"
   ]
  },
  {
   "cell_type": "code",
   "execution_count": 5,
   "id": "50411853-dbc0-4176-9816-17e519445864",
   "metadata": {},
   "outputs": [],
   "source": [
    "path_to_save_file = joinpath(_PATH_TO_DATA, \"L4a-SarcasmSamplesTokenizer-SavedData.jld2\");"
   ]
  },
  {
   "cell_type": "markdown",
   "id": "60e89e16-7534-4128-a532-d94c81bbcd64",
   "metadata": {},
   "source": [
    "Fill me in"
   ]
  },
  {
   "cell_type": "code",
   "execution_count": 7,
   "id": "74be06da-ef39-4af5-93b2-bc70587e58f9",
   "metadata": {},
   "outputs": [],
   "source": [
    "saved_data_dictionary = load(path_to_save_file);\n",
    "tokendictionary = saved_data_dictionary[\"tokendictionary\"];\n",
    "dataset = saved_data_dictionary[\"dataset\"];\n",
    "number_of_records = saved_data_dictionary[\"number_of_records\"];"
   ]
  },
  {
   "cell_type": "code",
   "execution_count": 8,
   "id": "7cf8d41d-af3a-47fd-9149-d585ee75050c",
   "metadata": {},
   "outputs": [],
   "source": [
    "number_of_tokens = tokendictionary |> length;"
   ]
  },
  {
   "cell_type": "code",
   "execution_count": 9,
   "id": "fded10a7-2d73-485e-bb47-40954aab8952",
   "metadata": {},
   "outputs": [
    {
     "data": {
      "text/plain": [
       "Dict{Int64, MySarcasmRecordModel} with 28619 entries:\n",
       "  19700 => MySarcasmRecordModel(false, \"in memoriam robin thickes career\", \"htt…\n",
       "  21664 => MySarcasmRecordModel(false, \"security video pokes holes in robbers t…\n",
       "  11950 => MySarcasmRecordModel(true, \"author dismayed by amazon customers othe…\n",
       "  1703  => MySarcasmRecordModel(true, \"dollhousing crisis set to worsen mean ol…\n",
       "  12427 => MySarcasmRecordModel(false, \"muslims respond to hateful protests wit…\n",
       "  7685  => MySarcasmRecordModel(false, \"this teens trying to make the road safe…\n",
       "  18374 => MySarcasmRecordModel(true, \"fear notshe means you no harm says eliza…\n",
       "  3406  => MySarcasmRecordModel(false, \"great lakes amazing connections the pow…\n",
       "  23970 => MySarcasmRecordModel(true, \"clinton credits nevada victory to inesca…\n",
       "  27640 => MySarcasmRecordModel(true, \"merger of advertising giants brings toge…\n",
       "  28576 => MySarcasmRecordModel(true, \"bartender refuses to acknowledge patrons…\n",
       "  1090  => MySarcasmRecordModel(false, \"clinton announces transition leadership…\n",
       "  2015  => MySarcasmRecordModel(true, \"adolescent girl reaching age where she s…\n",
       "  18139 => MySarcasmRecordModel(false, \"brad pitts despondent weatherman is so …\n",
       "  17088 => MySarcasmRecordModel(false, \"progressive prosecutors win primaries i…\n",
       "  11280 => MySarcasmRecordModel(true, \"mrs butterworths bottle central to terri…\n",
       "  16805 => MySarcasmRecordModel(false, \"copyright is broken can congress fix it…\n",
       "  28165 => MySarcasmRecordModel(true, \"either someone 14th caller or everything…\n",
       "  3220  => MySarcasmRecordModel(true, \"arsenio hall writers still keeping in to…\n",
       "  11251 => MySarcasmRecordModel(false, \"the unsolved tupac and notorious big mu…\n",
       "  422   => MySarcasmRecordModel(true, \"wedding experts say engagement ring shou…\n",
       "  15370 => MySarcasmRecordModel(true, \"black man given nations worst job\", \"htt…\n",
       "  25327 => MySarcasmRecordModel(false, \"take your kid to work day results in np…\n",
       "  15859 => MySarcasmRecordModel(true, \"nations gynecologists assure women that …\n",
       "  4030  => MySarcasmRecordModel(true, \"every one of mans priorities unrecogniza…\n",
       "  ⋮     => ⋮"
      ]
     },
     "execution_count": 9,
     "metadata": {},
     "output_type": "execute_result"
    }
   ],
   "source": [
    "dataset.records"
   ]
  },
  {
   "cell_type": "markdown",
   "id": "decd2257-cbe3-4b5e-98a7-9c1853bd9e90",
   "metadata": {},
   "source": [
    "## Task 1: Compute the Hashvectors for Sarcastic Samples\n",
    "Fill me in"
   ]
  },
  {
   "cell_type": "code",
   "execution_count": 11,
   "id": "0f6fa3b9-f464-420a-a452-b2813fbbdf80",
   "metadata": {},
   "outputs": [],
   "source": [
    "sarcasim_hashed_dictionary = Dict{Int64, Array{Int64,1}}();\n",
    "for i ∈ 1:number_of_records\n",
    "    record = dataset.records[i];\n",
    "    is_sarcastic_flag = record.issarcastic\n",
    "    if (is_sarcastic_flag == true)\n",
    "        \n",
    "        # split -\n",
    "        fields = split(record.headline, ' ') .|> String        \n",
    "        sarcasim_hashed_dictionary[i] = hashing(fields, hash = tokendictionary, size = (number_of_tokens+1));\n",
    "    end\n",
    "end"
   ]
  },
  {
   "cell_type": "code",
   "execution_count": 23,
   "id": "b6589e3a-c843-4f88-9fe8-d037a68ca121",
   "metadata": {},
   "outputs": [
    {
     "data": {
      "text/plain": [
       "8-element Vector{Int64}:\n",
       "  5552\n",
       "  8294\n",
       " 12046\n",
       " 15827\n",
       " 18532\n",
       " 23294\n",
       " 26616\n",
       " 27979"
      ]
     },
     "execution_count": 23,
     "metadata": {},
     "output_type": "execute_result"
    }
   ],
   "source": [
    "findall(x -> x != 0, sarcasim_hashed_dictionary[1])"
   ]
  },
  {
   "cell_type": "code",
   "execution_count": null,
   "id": "69951ebe-20c6-46c9-9641-5f3a3cb49735",
   "metadata": {},
   "outputs": [],
   "source": []
  }
 ],
 "metadata": {
  "kernelspec": {
   "display_name": "Julia 1.10.5",
   "language": "julia",
   "name": "julia-1.10"
  },
  "language_info": {
   "file_extension": ".jl",
   "mimetype": "application/julia",
   "name": "julia",
   "version": "1.10.5"
  }
 },
 "nbformat": 4,
 "nbformat_minor": 5
}

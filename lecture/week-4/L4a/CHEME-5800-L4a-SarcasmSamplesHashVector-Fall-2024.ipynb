{
 "cells": [
  {
   "cell_type": "markdown",
   "id": "7f298a06-6f24-4090-8778-0eadd4729806",
   "metadata": {},
   "source": [
    "# Example: Vector Hashing of Sarcasm Samples\n",
    "Fill me in"
   ]
  },
  {
   "cell_type": "markdown",
   "id": "9500dca4-1aa5-4b35-ad3f-942212a96a32",
   "metadata": {},
   "source": [
    "## Setup\n",
    "We set up the computational environment by including [the `Include. jl` file](Include.jl) using [the `include(...)` method](https://docs.julialang.org/en/v1/base/base/#Base.include). The [`Include.jl` file](Include.jl) loads external packages and functions we will use in these examples. \n",
    "* For additional information on functions and types used in this example, see the [Julia programming language documentation](https://docs.julialang.org/en/v1/). "
   ]
  },
  {
   "cell_type": "code",
   "execution_count": 3,
   "id": "7ab154de-1a83-4a53-a419-7a9adfe8c10b",
   "metadata": {},
   "outputs": [],
   "source": [
    "include(\"Include.jl\");"
   ]
  },
  {
   "cell_type": "markdown",
   "id": "43c1986b-3c5c-4780-a167-9ac1608f9a63",
   "metadata": {},
   "source": [
    "## Prerequisites\n",
    "Fill me in"
   ]
  },
  {
   "cell_type": "code",
   "execution_count": 5,
   "id": "50411853-dbc0-4176-9816-17e519445864",
   "metadata": {},
   "outputs": [],
   "source": [
    "path_to_save_file = joinpath(_PATH_TO_DATA, \"L4a-SarcasmSamplesTokenizer-SavedData.jld2\");"
   ]
  },
  {
   "cell_type": "markdown",
   "id": "60e89e16-7534-4128-a532-d94c81bbcd64",
   "metadata": {},
   "source": [
    "Fill me in"
   ]
  },
  {
   "cell_type": "code",
   "execution_count": 7,
   "id": "74be06da-ef39-4af5-93b2-bc70587e58f9",
   "metadata": {},
   "outputs": [],
   "source": [
    "saved_data_dictionary = load(path_to_save_file);\n",
    "\n",
    "# pull data from the saved_data_dictionary -\n",
    "corpusmodel = saved_data_dictionary[\"corpus\"];\n",
    "\n",
    "tokendictionary = corpusmodel.tokens;\n",
    "inversetokendictionary = corpusmodel.inverse;\n",
    "number_of_records = saved_data_dictionary[\"number_of_records\"];\n",
    "\n",
    "# compute some stuff need for later -\n",
    "number_of_tokens = tokendictionary |> length; # size of the token dictionary"
   ]
  },
  {
   "cell_type": "code",
   "execution_count": 8,
   "id": "fded10a7-2d73-485e-bb47-40954aab8952",
   "metadata": {},
   "outputs": [
    {
     "data": {
      "text/plain": [
       "Dict{Int64, MySarcasmRecordModel} with 28619 entries:\n",
       "  19700 => MySarcasmRecordModel(false, \"in memoriam robin thickes career\", \"htt…\n",
       "  21664 => MySarcasmRecordModel(false, \"security video pokes holes in robbers t…\n",
       "  11950 => MySarcasmRecordModel(true, \"author dismayed by amazon customers othe…\n",
       "  1703  => MySarcasmRecordModel(true, \"dollhousing crisis set to worsen mean ol…\n",
       "  12427 => MySarcasmRecordModel(false, \"muslims respond to hateful protests wit…\n",
       "  7685  => MySarcasmRecordModel(false, \"this teens trying to make the road safe…\n",
       "  18374 => MySarcasmRecordModel(true, \"fear notshe means you no harm says eliza…\n",
       "  3406  => MySarcasmRecordModel(false, \"great lakes amazing connections the pow…\n",
       "  23970 => MySarcasmRecordModel(true, \"clinton credits nevada victory to inesca…\n",
       "  27640 => MySarcasmRecordModel(true, \"merger of advertising giants brings toge…\n",
       "  28576 => MySarcasmRecordModel(true, \"bartender refuses to acknowledge patrons…\n",
       "  1090  => MySarcasmRecordModel(false, \"clinton announces transition leadership…\n",
       "  2015  => MySarcasmRecordModel(true, \"adolescent girl reaching age where she s…\n",
       "  18139 => MySarcasmRecordModel(false, \"brad pitts despondent weatherman is so …\n",
       "  17088 => MySarcasmRecordModel(false, \"progressive prosecutors win primaries i…\n",
       "  11280 => MySarcasmRecordModel(true, \"mrs butterworths bottle central to terri…\n",
       "  16805 => MySarcasmRecordModel(false, \"copyright is broken can congress fix it…\n",
       "  28165 => MySarcasmRecordModel(true, \"either someone 14th caller or everything…\n",
       "  3220  => MySarcasmRecordModel(true, \"arsenio hall writers still keeping in to…\n",
       "  11251 => MySarcasmRecordModel(false, \"the unsolved tupac and notorious big mu…\n",
       "  422   => MySarcasmRecordModel(true, \"wedding experts say engagement ring shou…\n",
       "  15370 => MySarcasmRecordModel(true, \"black man given nations worst job\", \"htt…\n",
       "  25327 => MySarcasmRecordModel(false, \"take your kid to work day results in np…\n",
       "  15859 => MySarcasmRecordModel(true, \"nations gynecologists assure women that …\n",
       "  4030  => MySarcasmRecordModel(true, \"every one of mans priorities unrecogniza…\n",
       "  ⋮     => ⋮"
      ]
     },
     "execution_count": 8,
     "metadata": {},
     "output_type": "execute_result"
    }
   ],
   "source": [
    "corpusmodel.records"
   ]
  },
  {
   "cell_type": "markdown",
   "id": "decd2257-cbe3-4b5e-98a7-9c1853bd9e90",
   "metadata": {},
   "source": [
    "## Task 1: Compute the hash vectors for sarcastic samples\n",
    "In this task, we'll compute [the feature hash vector representation](https://en.wikipedia.org/wiki/Feature_hashing) of the text headline for each sarcastic sample using the token dictionary that we developed in the previous example.\n",
    "\n"
   ]
  },
  {
   "cell_type": "code",
   "execution_count": 10,
   "id": "0f6fa3b9-f464-420a-a452-b2813fbbdf80",
   "metadata": {},
   "outputs": [
    {
     "data": {
      "text/plain": [
       "Dict{Int64, Vector{Int64}} with 13634 entries:\n",
       "  11950 => [0, 0, 0, 0, 0, 0, 0, 0, 0, 0  …  0, 0, 0, 0, 0, 0, 0, 0, 0, 0]\n",
       "  1703  => [0, 0, 0, 0, 0, 0, 0, 0, 0, 0  …  0, 0, 0, 0, 0, 0, 0, 0, 0, 0]\n",
       "  18374 => [0, 0, 0, 0, 0, 0, 0, 0, 0, 0  …  0, 0, 0, 0, 0, 0, 0, 0, 0, 0]\n",
       "  23970 => [0, 0, 0, 0, 0, 0, 0, 0, 0, 0  …  0, 0, 0, 0, 0, 0, 0, 0, 0, 0]\n",
       "  27640 => [0, 0, 0, 0, 0, 0, 0, 0, 0, 0  …  0, 0, 0, 0, 0, 0, 0, 0, 0, 0]\n",
       "  28576 => [0, 0, 0, 0, 0, 0, 0, 0, 0, 0  …  0, 0, 0, 0, 0, 0, 0, 0, 0, 0]\n",
       "  2015  => [0, 0, 0, 0, 0, 0, 0, 0, 0, 0  …  0, 0, 0, 0, 0, 0, 0, 0, 0, 0]\n",
       "  11280 => [0, 0, 0, 0, 0, 0, 0, 0, 0, 0  …  0, 0, 0, 0, 0, 0, 0, 0, 0, 0]\n",
       "  28165 => [0, 0, 0, 0, 0, 0, 0, 0, 0, 0  …  0, 0, 0, 0, 0, 0, 0, 0, 0, 0]\n",
       "  3220  => [0, 0, 0, 0, 0, 0, 0, 0, 0, 0  …  0, 0, 0, 0, 0, 0, 0, 0, 0, 0]\n",
       "  422   => [0, 0, 0, 0, 0, 0, 0, 0, 0, 0  …  0, 0, 0, 0, 0, 0, 0, 0, 0, 0]\n",
       "  15370 => [0, 0, 0, 0, 0, 0, 0, 0, 0, 0  …  0, 0, 0, 0, 0, 0, 0, 0, 0, 0]\n",
       "  15859 => [0, 0, 0, 0, 0, 0, 0, 0, 0, 0  …  0, 0, 0, 0, 0, 0, 0, 0, 0, 0]\n",
       "  4030  => [0, 0, 0, 0, 0, 0, 0, 0, 0, 0  …  0, 0, 0, 0, 0, 0, 0, 0, 0, 0]\n",
       "  3163  => [0, 0, 0, 0, 0, 0, 0, 0, 0, 0  …  0, 0, 0, 0, 0, 0, 0, 0, 0, 0]\n",
       "  9523  => [0, 0, 0, 0, 0, 0, 0, 0, 0, 0  …  0, 0, 0, 0, 0, 0, 0, 0, 0, 0]\n",
       "  25334 => [0, 0, 0, 0, 0, 0, 0, 0, 0, 0  …  0, 0, 0, 0, 0, 0, 0, 0, 0, 0]\n",
       "  25581 => [0, 0, 0, 0, 0, 0, 0, 0, 0, 0  …  0, 0, 0, 0, 0, 0, 0, 0, 0, 0]\n",
       "  16341 => [0, 0, 0, 0, 0, 0, 0, 0, 0, 0  …  0, 0, 0, 0, 0, 0, 0, 0, 0, 0]\n",
       "  23265 => [0, 0, 0, 0, 0, 0, 0, 0, 0, 0  …  0, 0, 0, 0, 0, 0, 0, 0, 0, 0]\n",
       "  12797 => [0, 0, 0, 0, 0, 0, 0, 0, 0, 0  …  0, 0, 0, 0, 0, 0, 0, 0, 0, 0]\n",
       "  14085 => [0, 0, 0, 0, 0, 0, 0, 0, 0, 0  …  0, 0, 0, 0, 0, 0, 0, 0, 0, 0]\n",
       "  27851 => [0, 0, 0, 0, 0, 0, 0, 0, 0, 0  …  0, 0, 0, 0, 0, 0, 0, 0, 0, 0]\n",
       "  10454 => [0, 0, 0, 0, 0, 0, 0, 0, 0, 0  …  0, 0, 0, 0, 0, 0, 0, 0, 0, 0]\n",
       "  24477 => [0, 0, 0, 0, 0, 0, 0, 0, 0, 0  …  0, 0, 0, 0, 0, 0, 0, 0, 0, 0]\n",
       "  ⋮     => ⋮"
      ]
     },
     "execution_count": 10,
     "metadata": {},
     "output_type": "execute_result"
    }
   ],
   "source": [
    "sarcasim_hashed_dictionary = let\n",
    "    sarcasim_hashed_dictionary = Dict{Int64, Array{Int64,1}}();\n",
    "    for i ∈ 1:number_of_records\n",
    "        record = corpusmodel.records[i];\n",
    "        is_sarcastic_flag = record.issarcastic\n",
    "        if (is_sarcastic_flag == true)        \n",
    "            fields = split(record.headline, ' ') .|> String        \n",
    "            sarcasim_hashed_dictionary[i] = hashing(fields, hash = tokendictionary, \n",
    "                size = (number_of_tokens+1));\n",
    "        end\n",
    "    end\n",
    "    sarcasim_hashed_dictionary\n",
    "end"
   ]
  },
  {
   "cell_type": "markdown",
   "id": "df46f6db-1291-4f78-a3c4-05f4d8b028a5",
   "metadata": {},
   "source": [
    "In this representation, most of the values in the hashed dictionary are zeros. However, the non-zero entries correspond to the index of the word in the token dictionary, where the value at that position is the count of the words in the sample. \n",
    "\n",
    "For example, the headline at index `1`:"
   ]
  },
  {
   "cell_type": "code",
   "execution_count": 12,
   "id": "86f8362e-0139-4ac6-9f85-32a6131facb6",
   "metadata": {},
   "outputs": [
    {
     "data": {
      "text/plain": [
       "\"thirtysomething scientists unveil doomsday clock of hair loss\""
      ]
     },
     "execution_count": 12,
     "metadata": {},
     "output_type": "execute_result"
    }
   ],
   "source": [
    "corpusmodel.records[1].headline"
   ]
  },
  {
   "cell_type": "markdown",
   "id": "3d3bf177-7739-4407-9cbf-f32444dd466d",
   "metadata": {},
   "source": [
    "has the following non-zero entries in the hashed dictionary, which we calculate using [the `findall(...)` method](https://docs.julialang.org/en/v1/base/arrays/#Base.findall-Tuple{Any}). \n",
    "* The first argument to the [the `findall(...)` method](https://docs.julialang.org/en/v1/base/arrays/#Base.findall-Tuple{Any}) is an example of [an anonymous functions](https://docs.julialang.org/en/v1/manual/functions/#man-anonymous-functions). It evaluates to a boolean condition for each value passed in. Thus, the call to [the `findall(...)` method](https://docs.julialang.org/en/v1/base/arrays/#Base.findall-Tuple{Any}) returns the indexes of the values that meet the condition `x != 0`\n",
    "\n",
    "The non-zero indexes correspond to the indexed of the words in the `tokendictionary::Dict{String,Int64}`:"
   ]
  },
  {
   "cell_type": "code",
   "execution_count": 14,
   "id": "b6589e3a-c843-4f88-9fe8-d037a68ca121",
   "metadata": {},
   "outputs": [
    {
     "data": {
      "text/plain": [
       "8-element Vector{Int64}:\n",
       "  5552\n",
       "  8294\n",
       " 12046\n",
       " 15827\n",
       " 18532\n",
       " 23294\n",
       " 26616\n",
       " 27979"
      ]
     },
     "execution_count": 14,
     "metadata": {},
     "output_type": "execute_result"
    }
   ],
   "source": [
    "i = findall(x -> x != 0, sarcasim_hashed_dictionary[1])"
   ]
  },
  {
   "cell_type": "markdown",
   "id": "ff109438-e5d2-4836-907b-5f535bd11b75",
   "metadata": {},
   "source": [
    "where each word occurs only once in this particular headline:"
   ]
  },
  {
   "cell_type": "code",
   "execution_count": 16,
   "id": "69951ebe-20c6-46c9-9641-5f3a3cb49735",
   "metadata": {},
   "outputs": [
    {
     "data": {
      "text/plain": [
       "8-element Vector{Int64}:\n",
       " 1\n",
       " 1\n",
       " 1\n",
       " 1\n",
       " 1\n",
       " 1\n",
       " 1\n",
       " 1"
      ]
     },
     "execution_count": 16,
     "metadata": {},
     "output_type": "execute_result"
    }
   ],
   "source": [
    "sarcasim_hashed_dictionary[1][i]"
   ]
  },
  {
   "cell_type": "markdown",
   "id": "bdb79c96-b3f8-4431-aed3-ea2c58d05657",
   "metadata": {},
   "source": [
    "### Check: What if we have a repeated word? \n",
    "Let's quickly check an example where words, i.e., tokens, are repeated in the headline.  For example, let's consider the headline at index `28616`."
   ]
  },
  {
   "cell_type": "code",
   "execution_count": 18,
   "id": "ff440b15-acc2-428c-af2e-2c8fbe42022b",
   "metadata": {},
   "outputs": [
    {
     "data": {
      "text/plain": [
       "\"internal affairs investigator disappointed conspiracy doesnt go all the way to the top\""
      ]
     },
     "execution_count": 18,
     "metadata": {},
     "output_type": "execute_result"
    }
   ],
   "source": [
    "corpusmodel.records[28616].headline"
   ]
  },
  {
   "cell_type": "markdown",
   "id": "71390c06-baca-4dce-8b6a-f81eac94b48f",
   "metadata": {},
   "source": [
    "The `the` token is repeated in the sentence. Thus, we should have a value of `2` in the hashed feature vector at the position corresponding to the token `the.` \n",
    "* Let's check this out; first, find the indexes of the non-zero elements of the feature vector, then look at the values in the feature vector at those indexes, and finally, show that the index holding a value of `2` corresponds to the `the` token."
   ]
  },
  {
   "cell_type": "code",
   "execution_count": 20,
   "id": "139a2546-de4b-4214-bed8-4ad33f13e0d5",
   "metadata": {},
   "outputs": [],
   "source": [
    "let\n",
    "    story_index_to_check = 28616; # What story do we want to look at?\n",
    "    i = findall(x -> x != 0, sarcasim_hashed_dictionary[story_index_to_check]); # find indexes non-zero fv values\n",
    "    j = sarcasim_hashed_dictionary[story_index_to_check][i]; # elements of the feature vector\n",
    "\n",
    "    # Find the index corresponding to `2` in the feature vector\n",
    "    k = findfirst(x -> x == 2, j) # Note: this the index of the i-vector\n",
    "\n",
    "    # check: if not equal to `the`, we'll get an AssertionError\n",
    "    @assert tokendictionary[\"the\"] == i[k]\n",
    "end"
   ]
  },
  {
   "cell_type": "markdown",
   "id": "adbc9520-4a1f-4ad3-a767-0df83d890d7e",
   "metadata": {},
   "source": [
    "### Check: Can we recreate the sentence from the hashed feature vector?\n",
    "Let's quickly check to see if we can recreate the original headline using the feature vector representation of the text. For example, can we reassemble the headline at index `1` in the `sarcasim_hashed_dictionary`?"
   ]
  },
  {
   "cell_type": "code",
   "execution_count": 43,
   "id": "140ebeeb-c551-49c3-87c8-01562637ad7c",
   "metadata": {},
   "outputs": [
    {
     "ename": "LoadError",
     "evalue": "AssertionError: h == test_headline",
     "output_type": "error",
     "traceback": [
      "AssertionError: h == test_headline",
      "",
      "Stacktrace:",
      " [1] top-level scope",
      "   @ In[43]:13"
     ]
    }
   ],
   "source": [
    "let\n",
    "    h = corpusmodel.records[1].headline; # headline string from the corpusmodel\n",
    "    fv = sarcasim_hashed_dictionary[1]; # get the feature vector from the sarcasim_hashed_dictionary, save this in fv\n",
    "    iv = findall(x -> x != 0, fv) # find indexes non-zero fv values\n",
    "    \n",
    "    tmp = Array{String,1}();\n",
    "    for i ∈ iv\n",
    "        push!(tmp, inversetokendictionary[i])\n",
    "        push!(tmp,\" \");\n",
    "    end\n",
    "\n",
    "    test_headline = join(tmp) |> strip # same as tmp |> join |> strip # recreate the headline string, strip off the trailing space\n",
    "    @assert h == test_headline # are the same?\n",
    "end"
   ]
  },
  {
   "cell_type": "markdown",
   "id": "37eb5dd7-03ee-4a9e-85c8-d86ce9376dcd",
   "metadata": {},
   "source": [
    "__Hmmm__: That didn't go like expected. Why?"
   ]
  },
  {
   "cell_type": "markdown",
   "id": "ab786f8c-83e7-451b-a23c-76b2e4c8d6a1",
   "metadata": {},
   "source": [
    "## Task 2: Compute the Hashvectors for Unsarcastic Samples\n",
    "In this task, we'll do the same computation as task 1, except we'll construct the feature vectors for the non-sarcastic headline samples. We'll save these in the `unsarcasim_hashed_dictionary::Dict{Int64, Array{Int64,1}}` variable."
   ]
  },
  {
   "cell_type": "code",
   "execution_count": 24,
   "id": "c78d7d40-7793-49f0-b44a-fc500e25fcff",
   "metadata": {},
   "outputs": [
    {
     "data": {
      "text/plain": [
       "Dict{Int64, Vector{Int64}} with 14985 entries:\n",
       "  12427 => [0, 0, 0, 0, 0, 0, 0, 0, 0, 0  …  0, 0, 0, 0, 0, 0, 0, 0, 0, 0]\n",
       "  7685  => [0, 0, 0, 0, 0, 0, 0, 0, 0, 0  …  0, 0, 0, 0, 0, 0, 0, 0, 0, 0]\n",
       "  3406  => [0, 0, 0, 0, 0, 0, 0, 0, 0, 0  …  0, 0, 0, 0, 0, 0, 0, 0, 0, 0]\n",
       "  1090  => [0, 0, 0, 0, 0, 0, 0, 0, 0, 0  …  0, 0, 0, 0, 0, 0, 0, 0, 0, 0]\n",
       "  18139 => [0, 0, 0, 0, 0, 0, 0, 0, 0, 0  …  0, 0, 0, 0, 0, 0, 0, 0, 0, 0]\n",
       "  17088 => [0, 0, 0, 0, 0, 0, 0, 0, 0, 0  …  0, 0, 0, 0, 0, 0, 0, 0, 0, 0]\n",
       "  16805 => [0, 0, 0, 0, 0, 0, 0, 0, 0, 0  …  0, 0, 0, 0, 0, 0, 0, 0, 0, 0]\n",
       "  11251 => [0, 0, 0, 0, 0, 0, 0, 0, 0, 0  …  0, 0, 0, 0, 0, 0, 0, 0, 0, 0]\n",
       "  25327 => [0, 0, 0, 0, 0, 0, 0, 0, 0, 0  …  0, 0, 0, 0, 0, 0, 0, 0, 0, 0]\n",
       "  8060  => [0, 0, 0, 0, 0, 0, 0, 0, 0, 0  …  0, 0, 0, 0, 0, 0, 0, 0, 0, 0]\n",
       "  14167 => [0, 0, 0, 0, 0, 0, 0, 0, 0, 0  …  0, 0, 0, 0, 0, 0, 0, 0, 0, 0]\n",
       "  8660  => [0, 0, 0, 0, 0, 0, 0, 0, 0, 0  …  0, 0, 0, 0, 0, 0, 0, 0, 0, 0]\n",
       "  18475 => [0, 0, 0, 0, 0, 0, 0, 0, 0, 0  …  0, 0, 0, 0, 0, 0, 0, 0, 0, 0]\n",
       "  14221 => [0, 0, 0, 0, 0, 0, 0, 0, 0, 0  …  0, 0, 0, 0, 0, 0, 0, 0, 0, 0]\n",
       "  15545 => [0, 0, 0, 0, 0, 0, 0, 0, 0, 0  …  0, 0, 0, 0, 0, 0, 0, 0, 0, 0]\n",
       "  3855  => [0, 0, 0, 0, 0, 0, 0, 0, 0, 0  …  0, 0, 0, 0, 0, 0, 0, 0, 0, 0]\n",
       "  15916 => [0, 0, 0, 0, 0, 0, 0, 0, 0, 0  …  0, 0, 0, 0, 0, 0, 0, 0, 0, 0]\n",
       "  23629 => [0, 0, 0, 0, 0, 0, 0, 0, 0, 0  …  0, 0, 0, 0, 0, 0, 0, 0, 0, 0]\n",
       "  22241 => [0, 0, 0, 0, 0, 0, 0, 0, 0, 0  …  0, 0, 0, 0, 0, 0, 0, 0, 0, 0]\n",
       "  2989  => [0, 0, 0, 0, 0, 0, 0, 0, 0, 0  …  0, 0, 0, 0, 0, 0, 0, 0, 0, 0]\n",
       "  4357  => [0, 0, 0, 0, 0, 0, 0, 0, 0, 0  …  0, 0, 0, 0, 0, 0, 0, 0, 0, 0]\n",
       "  17494 => [0, 0, 0, 0, 0, 0, 0, 0, 0, 0  …  0, 0, 0, 0, 0, 0, 0, 0, 0, 0]\n",
       "  8552  => [0, 0, 0, 0, 0, 0, 0, 0, 0, 0  …  0, 0, 0, 0, 0, 0, 0, 0, 0, 0]\n",
       "  9266  => [0, 0, 0, 0, 0, 0, 0, 0, 0, 0  …  0, 0, 0, 0, 0, 0, 0, 0, 0, 0]\n",
       "  23690 => [0, 0, 0, 0, 0, 0, 0, 0, 0, 0  …  0, 0, 0, 0, 0, 0, 0, 0, 0, 0]\n",
       "  ⋮     => ⋮"
      ]
     },
     "execution_count": 24,
     "metadata": {},
     "output_type": "execute_result"
    }
   ],
   "source": [
    "unsarcasim_hashed_dictionary = let         \n",
    "    unsarcasim_hashed_dictionary = Dict{Int64, Array{Int64,1}}();\n",
    "    for i ∈ 1:number_of_records\n",
    "        record = corpusmodel.records[i];\n",
    "        is_sarcastic_flag = record.issarcastic\n",
    "        if (is_sarcastic_flag == false)\n",
    "            \n",
    "            # split -\n",
    "            fields = split(record.headline, ' ') .|> String        \n",
    "            unsarcasim_hashed_dictionary[i] = hashing(fields, \n",
    "                hash = tokendictionary, size = (number_of_tokens+1));\n",
    "        end\n",
    "    end\n",
    "    unsarcasim_hashed_dictionary\n",
    "end"
   ]
  },
  {
   "cell_type": "markdown",
   "id": "d5c856aa-7dd2-4bcd-aafb-bc03530e3eff",
   "metadata": {},
   "source": [
    "## Task 3: Can we compute a value for the similarity of the feature vectors?"
   ]
  },
  {
   "cell_type": "code",
   "execution_count": null,
   "id": "a138b57d-dc97-468f-af23-13c82819a588",
   "metadata": {},
   "outputs": [],
   "source": []
  }
 ],
 "metadata": {
  "kernelspec": {
   "display_name": "Julia 1.10.5",
   "language": "julia",
   "name": "julia-1.10"
  },
  "language_info": {
   "file_extension": ".jl",
   "mimetype": "application/julia",
   "name": "julia",
   "version": "1.10.5"
  }
 },
 "nbformat": 4,
 "nbformat_minor": 5
}

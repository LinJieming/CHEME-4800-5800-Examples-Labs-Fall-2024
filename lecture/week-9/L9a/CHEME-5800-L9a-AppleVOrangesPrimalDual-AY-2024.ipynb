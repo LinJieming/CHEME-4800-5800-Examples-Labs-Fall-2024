{
 "cells": [
  {
   "cell_type": "markdown",
   "id": "a03d8190-84be-4691-9263-9d2ad9eb6169",
   "metadata": {},
   "source": [
    "# Example: Compute the Primal and Dual Solutions of the Apple versus Oranges Problem\n",
    "This example will familiarize students with the [linear programming dual problem](https://en.wikipedia.org/wiki/Dual_linear_program), and the relationship between the `primal` and `dual` solution to a linear program."
   ]
  },
  {
   "cell_type": "markdown",
   "id": "6f8dd3b7-66b0-4216-a157-35cbc762798d",
   "metadata": {},
   "source": [
    "## Setup\n",
    "This example requires several external libraries and a function to compute the outer product. Let's download and install these packages and call our `Include.jl` file."
   ]
  },
  {
   "cell_type": "code",
   "execution_count": 3,
   "id": "894ffc86-e268-4e4b-8831-b44902c0267f",
   "metadata": {},
   "outputs": [
    {
     "name": "stderr",
     "output_type": "stream",
     "text": [
      "\u001b[32m\u001b[1m  Activating\u001b[22m\u001b[39m project at `~/Desktop/julia_work/CHEME-4800-5800-Examples-Fall-2024/lecture/week-9/L9a`\n",
      "\u001b[32m\u001b[1m    Updating\u001b[22m\u001b[39m `~/Desktop/julia_work/CHEME-4800-5800-Examples-Fall-2024/lecture/week-9/L9a/Project.toml`\n",
      "  \u001b[90m[a93c6f00] \u001b[39m\u001b[92m+ DataFrames v1.7.0\u001b[39m\n",
      "  \u001b[90m[60bf3e95] \u001b[39m\u001b[92m+ GLPK v1.2.1\u001b[39m\n",
      "  \u001b[90m[4076af6c] \u001b[39m\u001b[92m+ JuMP v1.23.2\u001b[39m\n",
      "  \u001b[90m[37e2e46d] \u001b[39m\u001b[93m~ LinearAlgebra ⇒ v1.11.0\u001b[39m\n",
      "\u001b[32m\u001b[1m    Updating\u001b[22m\u001b[39m `~/Desktop/julia_work/CHEME-4800-5800-Examples-Fall-2024/lecture/week-9/L9a/Manifest.toml`\n",
      "  \u001b[90m[6e4b80f9] \u001b[39m\u001b[92m+ BenchmarkTools v1.5.0\u001b[39m\n",
      "  \u001b[90m[523fee87] \u001b[39m\u001b[92m+ CodecBzip2 v0.8.4\u001b[39m\n",
      "  \u001b[90m[944b1d66] \u001b[39m\u001b[92m+ CodecZlib v0.7.6\u001b[39m\n",
      "  \u001b[90m[bbf7d656] \u001b[39m\u001b[92m+ CommonSubexpressions v0.3.1\u001b[39m\n",
      "  \u001b[90m[34da2185] \u001b[39m\u001b[92m+ Compat v4.16.0\u001b[39m\n",
      "  \u001b[90m[a8cc5b0e] \u001b[39m\u001b[92m+ Crayons v4.1.1\u001b[39m\n",
      "  \u001b[90m[9a962f9c] \u001b[39m\u001b[92m+ DataAPI v1.16.0\u001b[39m\n",
      "  \u001b[90m[a93c6f00] \u001b[39m\u001b[92m+ DataFrames v1.7.0\u001b[39m\n",
      "  \u001b[90m[864edb3b] \u001b[39m\u001b[92m+ DataStructures v0.18.20\u001b[39m\n",
      "  \u001b[90m[e2d170a0] \u001b[39m\u001b[92m+ DataValueInterfaces v1.0.0\u001b[39m\n",
      "  \u001b[90m[163ba53b] \u001b[39m\u001b[92m+ DiffResults v1.1.0\u001b[39m\n",
      "  \u001b[90m[b552c78f] \u001b[39m\u001b[92m+ DiffRules v1.15.1\u001b[39m\n",
      "  \u001b[90m[ffbed154] \u001b[39m\u001b[92m+ DocStringExtensions v0.9.3\u001b[39m\n",
      "  \u001b[90m[f6369f11] \u001b[39m\u001b[92m+ ForwardDiff v0.10.36\u001b[39m\n",
      "  \u001b[90m[60bf3e95] \u001b[39m\u001b[92m+ GLPK v1.2.1\u001b[39m\n",
      "  \u001b[90m[842dd82b] \u001b[39m\u001b[92m+ InlineStrings v1.4.2\u001b[39m\n",
      "  \u001b[90m[41ab1584] \u001b[39m\u001b[92m+ InvertedIndices v1.3.0\u001b[39m\n",
      "  \u001b[90m[92d709cd] \u001b[39m\u001b[92m+ IrrationalConstants v0.2.2\u001b[39m\n",
      "  \u001b[90m[82899510] \u001b[39m\u001b[92m+ IteratorInterfaceExtensions v1.0.0\u001b[39m\n",
      "  \u001b[90m[692b3bcd] \u001b[39m\u001b[92m+ JLLWrappers v1.6.1\u001b[39m\n",
      "  \u001b[90m[682c06a0] \u001b[39m\u001b[92m+ JSON v0.21.4\u001b[39m\n",
      "  \u001b[90m[4076af6c] \u001b[39m\u001b[92m+ JuMP v1.23.2\u001b[39m\n",
      "  \u001b[90m[b964fa9f] \u001b[39m\u001b[92m+ LaTeXStrings v1.4.0\u001b[39m\n",
      "  \u001b[90m[2ab3a3ac] \u001b[39m\u001b[92m+ LogExpFunctions v0.3.28\u001b[39m\n",
      "  \u001b[90m[1914dd2f] \u001b[39m\u001b[92m+ MacroTools v0.5.13\u001b[39m\n",
      "  \u001b[90m[b8f27783] \u001b[39m\u001b[92m+ MathOptInterface v1.31.2\u001b[39m\n",
      "  \u001b[90m[e1d29d7a] \u001b[39m\u001b[92m+ Missings v1.2.0\u001b[39m\n",
      "  \u001b[90m[d8a4904e] \u001b[39m\u001b[92m+ MutableArithmetics v1.5.2\u001b[39m\n",
      "  \u001b[90m[77ba4419] \u001b[39m\u001b[92m+ NaNMath v1.0.2\u001b[39m\n",
      "  \u001b[90m[bac558e1] \u001b[39m\u001b[92m+ OrderedCollections v1.6.3\u001b[39m\n",
      "  \u001b[90m[69de0a69] \u001b[39m\u001b[92m+ Parsers v2.8.1\u001b[39m\n",
      "  \u001b[90m[2dfb63ee] \u001b[39m\u001b[92m+ PooledArrays v1.4.3\u001b[39m\n",
      "  \u001b[90m[aea7be01] \u001b[39m\u001b[92m+ PrecompileTools v1.2.1\u001b[39m\n",
      "  \u001b[90m[21216c6a] \u001b[39m\u001b[92m+ Preferences v1.4.3\u001b[39m\n",
      "  \u001b[90m[08abe8d2] \u001b[39m\u001b[92m+ PrettyTables v2.4.0\u001b[39m\n",
      "  \u001b[90m[189a3867] \u001b[39m\u001b[92m+ Reexport v1.2.2\u001b[39m\n",
      "  \u001b[90m[91c51154] \u001b[39m\u001b[92m+ SentinelArrays v1.4.5\u001b[39m\n",
      "  \u001b[90m[a2af1166] \u001b[39m\u001b[92m+ SortingAlgorithms v1.2.1\u001b[39m\n",
      "  \u001b[90m[276daf66] \u001b[39m\u001b[92m+ SpecialFunctions v2.4.0\u001b[39m\n",
      "  \u001b[90m[1e83bf80] \u001b[39m\u001b[92m+ StaticArraysCore v1.4.3\u001b[39m\n",
      "  \u001b[90m[10745b16] \u001b[39m\u001b[92m+ Statistics v1.11.1\u001b[39m\n",
      "  \u001b[90m[892a3eda] \u001b[39m\u001b[92m+ StringManipulation v0.4.0\u001b[39m\n",
      "  \u001b[90m[3783bdb8] \u001b[39m\u001b[92m+ TableTraits v1.0.1\u001b[39m\n",
      "  \u001b[90m[bd369af6] \u001b[39m\u001b[92m+ Tables v1.12.0\u001b[39m\n",
      "  \u001b[90m[3bb67fe8] \u001b[39m\u001b[92m+ TranscodingStreams v0.11.3\u001b[39m\n",
      "  \u001b[90m[6e34b625] \u001b[39m\u001b[92m+ Bzip2_jll v1.0.8+1\u001b[39m\n",
      "  \u001b[90m[e8aa6df9] \u001b[39m\u001b[92m+ GLPK_jll v5.0.1+0\u001b[39m\n",
      "  \u001b[90m[efe28fd5] \u001b[39m\u001b[92m+ OpenSpecFun_jll v0.5.5+0\u001b[39m\n",
      "  \u001b[90m[0dad84c5] \u001b[39m\u001b[92m+ ArgTools v1.1.2\u001b[39m\n",
      "  \u001b[90m[56f22d72] \u001b[39m\u001b[92m+ Artifacts v1.11.0\u001b[39m\n",
      "  \u001b[90m[2a0f44e3] \u001b[39m\u001b[92m+ Base64 v1.11.0\u001b[39m\n",
      "  \u001b[90m[ade2ca70] \u001b[39m\u001b[92m+ Dates v1.11.0\u001b[39m\n",
      "  \u001b[90m[f43a241f] \u001b[39m\u001b[92m+ Downloads v1.6.0\u001b[39m\n",
      "  \u001b[90m[7b1f6079] \u001b[39m\u001b[92m+ FileWatching v1.11.0\u001b[39m\n",
      "  \u001b[90m[9fa8497b] \u001b[39m\u001b[92m+ Future v1.11.0\u001b[39m\n",
      "  \u001b[90m[b77e0a4c] \u001b[39m\u001b[92m+ InteractiveUtils v1.11.0\u001b[39m\n",
      "  \u001b[90m[b27032c2] \u001b[39m\u001b[92m+ LibCURL v0.6.4\u001b[39m\n",
      "  \u001b[90m[76f85450] \u001b[39m\u001b[92m+ LibGit2 v1.11.0\u001b[39m\n",
      "  \u001b[90m[8f399da3] \u001b[39m\u001b[92m+ Libdl v1.11.0\u001b[39m\n",
      "  \u001b[90m[37e2e46d] \u001b[39m\u001b[92m+ LinearAlgebra v1.11.0\u001b[39m\n",
      "  \u001b[90m[56ddb016] \u001b[39m\u001b[92m+ Logging v1.11.0\u001b[39m\n",
      "  \u001b[90m[d6f4376e] \u001b[39m\u001b[92m+ Markdown v1.11.0\u001b[39m\n",
      "  \u001b[90m[a63ad114] \u001b[39m\u001b[92m+ Mmap v1.11.0\u001b[39m\n",
      "  \u001b[90m[ca575930] \u001b[39m\u001b[92m+ NetworkOptions v1.2.0\u001b[39m\n",
      "  \u001b[90m[44cfe95a] \u001b[39m\u001b[92m+ Pkg v1.11.0\u001b[39m\n",
      "  \u001b[90m[de0858da] \u001b[39m\u001b[92m+ Printf v1.11.0\u001b[39m\n",
      "  \u001b[90m[9abbd945] \u001b[39m\u001b[92m+ Profile v1.11.0\u001b[39m\n",
      "  \u001b[90m[9a3f8284] \u001b[39m\u001b[92m+ Random v1.11.0\u001b[39m\n",
      "  \u001b[90m[ea8e919c] \u001b[39m\u001b[92m+ SHA v0.7.0\u001b[39m\n",
      "  \u001b[90m[9e88b42a] \u001b[39m\u001b[92m+ Serialization v1.11.0\u001b[39m\n",
      "  \u001b[90m[2f01184e] \u001b[39m\u001b[92m+ SparseArrays v1.11.0\u001b[39m\n",
      "  \u001b[90m[fa267f1f] \u001b[39m\u001b[92m+ TOML v1.0.3\u001b[39m\n",
      "  \u001b[90m[a4e569a6] \u001b[39m\u001b[92m+ Tar v1.10.0\u001b[39m\n",
      "  \u001b[90m[8dfed614] \u001b[39m\u001b[92m+ Test v1.11.0\u001b[39m\n",
      "  \u001b[90m[cf7118a7] \u001b[39m\u001b[92m+ UUIDs v1.11.0\u001b[39m\n",
      "  \u001b[90m[4ec0a83e] \u001b[39m\u001b[92m+ Unicode v1.11.0\u001b[39m\n",
      "  \u001b[90m[e66e0078] \u001b[39m\u001b[92m+ CompilerSupportLibraries_jll v1.1.1+0\u001b[39m\n",
      "  \u001b[90m[781609d7] \u001b[39m\u001b[92m+ GMP_jll v6.3.0+0\u001b[39m\n",
      "  \u001b[90m[deac9b47] \u001b[39m\u001b[92m+ LibCURL_jll v8.6.0+0\u001b[39m\n",
      "  \u001b[90m[e37daf67] \u001b[39m\u001b[92m+ LibGit2_jll v1.7.2+0\u001b[39m\n",
      "  \u001b[90m[29816b5a] \u001b[39m\u001b[92m+ LibSSH2_jll v1.11.0+1\u001b[39m\n",
      "  \u001b[90m[c8ffd9c3] \u001b[39m\u001b[92m+ MbedTLS_jll v2.28.6+0\u001b[39m\n",
      "  \u001b[90m[14a3606d] \u001b[39m\u001b[92m+ MozillaCACerts_jll v2023.12.12\u001b[39m\n",
      "  \u001b[90m[4536629a] \u001b[39m\u001b[92m+ OpenBLAS_jll v0.3.27+1\u001b[39m\n",
      "  \u001b[90m[05823500] \u001b[39m\u001b[92m+ OpenLibm_jll v0.8.1+2\u001b[39m\n",
      "  \u001b[90m[bea87d4a] \u001b[39m\u001b[92m+ SuiteSparse_jll v7.7.0+0\u001b[39m\n",
      "  \u001b[90m[83775a58] \u001b[39m\u001b[92m+ Zlib_jll v1.2.13+1\u001b[39m\n",
      "  \u001b[90m[8e850b90] \u001b[39m\u001b[92m+ libblastrampoline_jll v5.11.0+0\u001b[39m\n",
      "  \u001b[90m[8e850ede] \u001b[39m\u001b[92m+ nghttp2_jll v1.59.0+0\u001b[39m\n",
      "  \u001b[90m[3f19e933] \u001b[39m\u001b[92m+ p7zip_jll v17.4.0+2\u001b[39m\n",
      "\u001b[92m\u001b[1mPrecompiling\u001b[22m\u001b[39m project...\n",
      "    584.2 ms\u001b[32m  ✓ \u001b[39m\u001b[90mGLPK_jll\u001b[39m\n",
      "   6440.0 ms\u001b[32m  ✓ \u001b[39mGLPK\n",
      "  2 dependencies successfully precompiled in 8 seconds. 83 already precompiled.\n",
      "\u001b[32m\u001b[1m    Updating\u001b[22m\u001b[39m registry at `~/.julia/registries/General.toml`\n",
      "\u001b[91m\u001b[1m┌ \u001b[22m\u001b[39m\u001b[91m\u001b[1mError: \u001b[22m\u001b[39mSome registries failed to update:\n",
      "\u001b[91m\u001b[1m│ \u001b[22m\u001b[39m    — /Users/jeffreyvarner/.julia/registries/General.toml — failed to download from https://pkg.julialang.org/registry/23338594-aafe-5451-b93e-139f81909106/e5fe2ea3c37097c1b350e66bdc7d3cff7835d9ab. Exception: RequestError: HTTP/2 302 (Operation too slow. Less than 1 bytes/sec transferred the last 20 seconds) while requesting https://pkg.julialang.org/registry/23338594-aafe-5451-b93e-139f81909106/e5fe2ea3c37097c1b350e66bdc7d3cff7835d9ab\n",
      "\u001b[91m\u001b[1m└ \u001b[22m\u001b[39m\u001b[90m@ Pkg.Registry ~/.julia/juliaup/julia-1.11.1+0.aarch64.apple.darwin14/share/julia/stdlib/v1.11/Pkg/src/Registry/Registry.jl:546\u001b[39m\n",
      "\u001b[32m\u001b[1m  No Changes\u001b[22m\u001b[39m to `~/Desktop/julia_work/CHEME-4800-5800-Examples-Fall-2024/lecture/week-9/L9a/Project.toml`\n",
      "\u001b[32m\u001b[1m  No Changes\u001b[22m\u001b[39m to `~/Desktop/julia_work/CHEME-4800-5800-Examples-Fall-2024/lecture/week-9/L9a/Manifest.toml`\n",
      "\u001b[36m\u001b[1m[ \u001b[22m\u001b[39m\u001b[36m\u001b[1mInfo: \u001b[22m\u001b[39mPrecompiling GLPK [60bf3e95-4087-53dc-ae20-288a0d20c6a6] (cache misses: wrong dep version loaded (2))\n",
      "\u001b[36m\u001b[1m[ \u001b[22m\u001b[39m\u001b[36m\u001b[1mInfo: \u001b[22m\u001b[39mPrecompiling JuMP [4076af6c-e467-56ae-b986-b466b2749572] (cache misses: wrong dep version loaded (2), invalid header (6))\n"
     ]
    }
   ],
   "source": [
    "include(\"Include.jl\");"
   ]
  },
  {
   "cell_type": "markdown",
   "id": "4280fc48-5d4c-4b17-9e89-182fcad3f1af",
   "metadata": {},
   "source": [
    "## Prerequisites\n",
    "Let's set the prices, $\\alpha_{i}$, and budget for our `Apple` versus `Oranges` problem. We'll store the prices in the `c` array and the coefficients in the utility function in the `α` variable.\n",
    "* The $\\alpha_{i}$ coefficients (because we have a linear utility function) are the [marginal utilities](https://en.wikipedia.org/wiki/Marginal_utility), i.e., they tell us the satisfaction we gain from consuming an additional unit of good $i$. They have units of `utils/qty`\n",
    "* The $c_{i}$ coefficients represent the unit cost of each good, e.g., the cost of a single apple or orange. The $c_{i}$ coefficients have units of `USD/qty.`\n",
    "* Finally, the `total_budget` variable holds the amount of money we spend on apples and oranges. The `total_budget` has units of `USD`."
   ]
  },
  {
   "cell_type": "code",
   "execution_count": 5,
   "id": "838818dd-8d87-4c3c-9508-e5a3fb1eb350",
   "metadata": {},
   "outputs": [],
   "source": [
    "# α = [0.55, 0.45]; # coefficients for case A (apples only)\n",
    "α = [0.15, 0.55]; # coefficients for case B (oranges only)\n",
    "# α = [2.0, 4.0]; # coefficients for case C (both)\n",
    "c = [2.0 4.0]; # unit price of an Apple and an Orange\n",
    "total_budget = 100.0; # total budget that we can spend"
   ]
  },
  {
   "cell_type": "markdown",
   "id": "6c51fbeb-cbce-4886-bb4b-fbc28396bb1c",
   "metadata": {},
   "source": [
    "## Task 1: Compute the primal solution to the apple versus oranges problem\n",
    "Let's solve the `primal` linear programming problem for the unknown values in our problem, i.e., the number of apples or oranges we should purchase to maximize our happiness function. The problem we are solving is a linear programming problem of the form:\n",
    "\n",
    "$$\n",
    "\\begin{eqnarray*}\n",
    "\\text{maximize}~\\mathcal{O}(\\mathbf{x}) &=& U\\left(x_{1},\\dots,x_{n}\\right) \\\\\n",
    "\\text{subject to}~\\sum_{i\\in{1,\\dotsc,n}}c_{i}\\cdot{x}_{i} & = & I\\\\\n",
    "\\text{and}~x_{i}&\\geq&{0}\\qquad{i=1,2,\\dots,n}\n",
    "\\end{eqnarray*}\n",
    "$$\n",
    "\n",
    "The $c_{i}\\geq{0}~\\forall{i}$ denotes the cost of the object $i$, $x_{i}\\geq{0}$ represents \n",
    "the amount of object $i$ purchased or consumed by the agent, and $I$ represent the budget that we have to spend. In this case, we'll use a __linear__ Utility function of the form:\n",
    "\n",
    "$$\n",
    "U(x) = \\alpha_{1}\\cdot{x}_{1}+\\alpha_{2}\\cdot{x}_{2}\n",
    "$$\n",
    "\n",
    "where $\\alpha_{1}$ are the marginal utilities, $x_{1}$ denotes the quantity of `apples = 1`, and $x_{2}$ represents the number of `oranges = 2` that we purchase."
   ]
  },
  {
   "cell_type": "markdown",
   "id": "31bb2ef8-6a51-4ebd-9c36-3d00faee7a25",
   "metadata": {},
   "source": [
    "To solve this problem, let's first specify the bounds of the variables in the `bounds` variable. The first column of the array corresponds to the lower bound, while the second column corresponds to the upper bound for the unknown variable(s) $x_{i}$."
   ]
  },
  {
   "cell_type": "code",
   "execution_count": 8,
   "id": "0701008a-7a48-458c-97a3-3166b302ed4a",
   "metadata": {},
   "outputs": [],
   "source": [
    "bounds = [\n",
    "    0.0 100.0; # L U\n",
    "    0.0 100.0; # L U\n",
    "];"
   ]
  },
  {
   "cell_type": "markdown",
   "id": "d5153564-ed7f-42e2-a9b6-107ab6c94e6b",
   "metadata": {},
   "source": [
    "Next, we create an instance of the `MyLinearProgrammingProblemModel` model using a `build(...)` method and store this model in the `primal_problem` variable. \n",
    "* This model holds the data associated with the problem, e.g., the unit costs, the marginal utilities, the right-hand side vector, i.e., the budget, and the problem bounds"
   ]
  },
  {
   "cell_type": "code",
   "execution_count": 10,
   "id": "b7c2c02d-91a8-49a3-a7ca-ed96a270f49c",
   "metadata": {},
   "outputs": [],
   "source": [
    "primal_problem = build(MyLinearProgrammingProblemModel, (\n",
    "    \n",
    "    c = α, # coefficients in Utility function\n",
    "    A = c, # unit prices of x1 and x2 (we need this as a matrix in this formulation)\n",
    "    b = [total_budget], # budge is the right-hand side\n",
    "    \n",
    "    # how much of x₁ and x₂ can be we buy?\n",
    "    lb = bounds[:,1],\n",
    "    ub = bounds[:,2]\n",
    "));"
   ]
  },
  {
   "cell_type": "markdown",
   "id": "84eba60d-3f43-43cf-a467-406b523e3fed",
   "metadata": {},
   "source": [
    "Finally, we pass the `primal_problem` variable to the `solve(...)` method, which constructs the linear program using the [JuMP domain-specific language](https://jump.dev/). \n",
    "* The implementation of the `solve(...)` method is in the [src/Solver.jl](src/Solver.jl) file. It takes the data from the `primal_problem` instance, builds the various problem structures, and returns the solution in the `primal_solution` dictionary."
   ]
  },
  {
   "cell_type": "code",
   "execution_count": 12,
   "id": "27f7d890-b4e6-49de-85e3-f433a7bb2fa5",
   "metadata": {},
   "outputs": [
    {
     "data": {
      "text/plain": [
       "Dict{String, Any} with 2 entries:\n",
       "  \"argmax\"          => [0.0, 25.0]\n",
       "  \"objective_value\" => 13.75"
      ]
     },
     "execution_count": 12,
     "metadata": {},
     "output_type": "execute_result"
    }
   ],
   "source": [
    "primal_solution = solve(primal_problem)"
   ]
  },
  {
   "cell_type": "markdown",
   "id": "90a97b9c-4462-4cf6-9f99-b50e525d5359",
   "metadata": {},
   "source": [
    "## Task 2: Compute the dual solution to the apples versus oranges problem\n",
    "The `primal` solution computed the combination of goods, e.g., apples and oranges, that maximized the utility (happiness) of the consumer subject to a budget constraint. The `dual` problem will minimize the expenditure required to achieve the maximum utility, i.e., spend the least amount of resources (money) to get the best outcome. The dual problem has the following structure:\n",
    "$$\n",
    "\\begin{eqnarray*}\n",
    "\\text{minimize}~\\mathcal{O}^{\\prime}(\\mathbf{y}) &=& I\\cdot{y} \\\\\n",
    "\\text{subject to}~\\mathbf{c}\\cdot{y} & \\geq & \\mathbf{\\alpha}\\\\\n",
    "\\text{and}~y&\\geq&{0}\n",
    "\\end{eqnarray*}\n",
    "$$\n",
    "where $\\mathbf{c}$ is the column-vector holding the unit costs, $\\mathbf{\\alpha}$ denotes the vector of marginal utilities and $y$ denotes the dual-decision variable."
   ]
  },
  {
   "cell_type": "markdown",
   "id": "fa2ba6c8-4d8d-44a4-ba28-33e87fcf0ede",
   "metadata": {},
   "source": [
    "To set up the `dual` problem, we create an instance of the `MyLinearProgrammingProblemModel` model using the `build(...)` method and store this model in the `dual_problem` variable.\n",
    "* This model holds the data associated with the problem, e.g., the unit costs, the marginal utilities, the right-hand side vector, i.e., the budget, and the problem bounds (the same data as the `primal` problem)"
   ]
  },
  {
   "cell_type": "code",
   "execution_count": 15,
   "id": "f9af9757-601a-4c02-9e55-dccea27179bb",
   "metadata": {},
   "outputs": [],
   "source": [
    "dual_problem = build(MyLinearProgrammingDualProblemModel, (\n",
    "    c = α,\n",
    "    A = c,\n",
    "    b = [total_budget],\n",
    "    lb = bounds[:,1],\n",
    "    ub = bounds[:,2]\n",
    "));"
   ]
  },
  {
   "cell_type": "markdown",
   "id": "8ec08d81-a2dc-460a-b09a-950c0fd8eab0",
   "metadata": {},
   "source": [
    "Finally, we pass the `dual_problem` variable to the `solve(...)` method, which constructs the linear program using the [JuMP domain-specific language](https://jump.dev/). \n",
    "* The implementation of the `solve(...)` method is in the [src/Solver.jl](src/Solver.jl) file. It takes the data from the `dual_problem` instance, builds the various problem structures, and returns the solution in the `dual_solution` dictionary."
   ]
  },
  {
   "cell_type": "code",
   "execution_count": 17,
   "id": "a425755c-ace7-4d7e-9d48-756e1d8a9343",
   "metadata": {},
   "outputs": [
    {
     "data": {
      "text/plain": [
       "Dict{String, Any} with 2 entries:\n",
       "  \"argmin\"          => [0.1375]\n",
       "  \"objective_value\" => 13.75"
      ]
     },
     "execution_count": 17,
     "metadata": {},
     "output_type": "execute_result"
    }
   ],
   "source": [
    "dual_solution = solve(dual_problem)"
   ]
  },
  {
   "cell_type": "markdown",
   "id": "db554180-0850-46b6-af4d-ba4a40d6e010",
   "metadata": {},
   "source": [
    "### Hmmmm. How should we interpret the `dual` solution $y$?\n",
    "One way to start thinking about the meaning of $y$ is to look at its units. From the units of $\\alpha$, $c$ and the constraints on the dual problem, we can see that $y$ has units: `utils/USD.`\n",
    "* Thus, the dual problem is minimizing the expenditure $I\\cdot{y}$ (units: `USD`) such that we bound the marginal utility, i.e., find a marginal utility that is at least $\\alpha_{\\star}$, where $\\star$ denotes the index of the good that is chosen (either apples or oranges in this case)."
   ]
  },
  {
   "cell_type": "markdown",
   "id": "57d3f7b6-b979-43c3-96fd-71714c228e2e",
   "metadata": {},
   "source": [
    "### Check: Does the `dual` solution say anything about the correct choice?\n",
    "The `dual` solution does not explicitly calculate the number of apples or oranges we should purchase (the solution to the `primal` problem). Still, from our interpretation outlined above, it __should__ say something about which good we choose. \n",
    "* Let's check the relationship $y = \\max\\left\\{\\alpha_{1}/c_{1},\\alpha_{2}/c_{2}\\right\\}$ and see which index is bigger (this should correspond to the largest scaled utility). Thus, the good that is chosen $i^{\\star} = \\arg\\max\\left\\{\\alpha_{1}/c_{1},\\alpha_{2}/c_{2}\\right\\}$"
   ]
  },
  {
   "cell_type": "code",
   "execution_count": 20,
   "id": "742df604-caf9-4269-84a8-85676d8d4519",
   "metadata": {},
   "outputs": [
    {
     "data": {
      "text/plain": [
       "2"
      ]
     },
     "execution_count": 20,
     "metadata": {},
     "output_type": "execute_result"
    }
   ],
   "source": [
    "test = [α[1]/c[1], α[2]/c[2]] |> argmax"
   ]
  },
  {
   "cell_type": "markdown",
   "id": "b9cfbd53-66ba-4158-a9bf-d2384ac2fa32",
   "metadata": {},
   "source": [
    "### Check: Is the weak duality condition met?\n",
    "Finally, we know from the [weak duality condition](https://en.wikipedia.org/wiki/Weak_duality) that $\\mathcal{O}^{\\prime}(\\mathcal{y}^{\\star})\\geq\\mathcal{O}(\\mathcal{x}^{\\star})$, where $\\mathcal{y}^{\\star}$ denotes the optimal solution of the dual problem, and $\\mathcal{x}^{\\star}$ denotes the optimal solution of the primal problem. \n",
    "* Let's check if this condition is true using the [@assert macro](https://docs.julialang.org/en/v1/base/base/#Base.@assert). If the Boolean `assertion fails,` then an [AssertionError](https://docs.julialang.org/en/v1/base/base/#Core.AssertionError) is thrown"
   ]
  },
  {
   "cell_type": "code",
   "execution_count": 22,
   "id": "03312cee-7526-4ff8-b5be-03d8a16d69d0",
   "metadata": {},
   "outputs": [],
   "source": [
    "@assert dual_solution[\"objective_value\"] ≥ primal_solution[\"objective_value\"]"
   ]
  }
 ],
 "metadata": {
  "kernelspec": {
   "display_name": "Julia 1.11.1",
   "language": "julia",
   "name": "julia-1.11"
  },
  "language_info": {
   "file_extension": ".jl",
   "mimetype": "application/julia",
   "name": "julia",
   "version": "1.11.1"
  }
 },
 "nbformat": 4,
 "nbformat_minor": 5
}
